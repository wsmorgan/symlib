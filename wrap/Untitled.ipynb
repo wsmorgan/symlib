{
 "cells": [
  {
   "cell_type": "code",
   "execution_count": 1,
   "metadata": {
    "collapsed": false
   },
   "outputs": [],
   "source": [
    "from ase.io import read\n",
    "from symmetry import get_spaceGroup\n",
    "import numpy as np\n",
    "from glob import glob"
   ]
  },
  {
   "cell_type": "code",
   "execution_count": 5,
   "metadata": {
    "collapsed": false
   },
   "outputs": [
    {
     "name": "stdout",
     "output_type": "stream",
     "text": [
      "('POSCAR_Co_Cr', 2)\n",
      "('POSCAR_Cr_Mn', 2)\n",
      "('POSCAR_Cu_11_orig', 2)\n",
      "('POSCAR_Cu_8_orig', 4)\n",
      "('POSCAR_Cu_9_orig', 4)\n",
      "('POSCAR_K_11_orig', 2)\n",
      "('POSCAR_K_9_orig', 2)\n",
      "('POSCAR_Ti_10_orig', 1)\n",
      "('POSCAR_Ti_11_orig', 1)\n",
      "('POSCAR_Ti_1_orig', 12)\n",
      "('POSCAR_Ti_3_orig', 2)\n",
      "('POSCAR_Ti_4_orig', 4)\n",
      "('POSCAR_Ti_5_orig', 2)\n",
      "('POSCAR_Ti_6_orig', 1)\n",
      "('POSCAR_Ti_8_orig', 1)\n",
      "('POSCAR_Ti_9_orig', 2)\n"
     ]
    }
   ],
   "source": [
    "poscars = glob(\"/Users/wileymorgan/temp/opf_kgrid/POSCARS/*\")\n",
    "for poscar in poscars:\n",
    "    if \"~\" not in poscar:\n",
    "        atm = read(poscar)\n",
    "        ops, trans = get_spaceGroup(atm)\n",
    "        invers_op = False\n",
    "        for op in ops:\n",
    "            if np.allclose(op, [[-1,0,0],[0,-1,0],[0,0,-1]]):\n",
    "                invers_op = True\n",
    "                break\n",
    "        if not invers_op:\n",
    "            print(poscar.split('/')[-1],len(ops))"
   ]
  },
  {
   "cell_type": "code",
   "execution_count": 7,
   "metadata": {
    "collapsed": false
   },
   "outputs": [
    {
     "data": {
      "text/plain": [
       "array([[[-1.,  0.,  0.],\n",
       "        [ 0.,  1.,  0.],\n",
       "        [-0.,  0.,  1.]],\n",
       "\n",
       "       [[ 1.,  0.,  0.],\n",
       "        [-0.,  1.,  0.],\n",
       "        [ 0.,  0.,  1.]]])"
      ]
     },
     "execution_count": 7,
     "metadata": {},
     "output_type": "execute_result"
    }
   ],
   "source": [
    "np.round(ops,2)"
   ]
  },
  {
   "cell_type": "code",
   "execution_count": 9,
   "metadata": {
    "collapsed": false
   },
   "outputs": [
    {
     "name": "stdout",
     "output_type": "stream",
     "text": [
      "[0, 1]\n",
      "[[ 0.          1.463     ]\n",
      " [ 0.          0.84466341]\n",
      " [ 0.          2.389069  ]]\n"
     ]
    },
    {
     "data": {
      "text/plain": [
       "12"
      ]
     },
     "execution_count": 9,
     "metadata": {},
     "output_type": "execute_result"
    }
   ],
   "source": [
    "ops, trans = get_spaceGroup(atm)\n",
    "len(ops)"
   ]
  },
  {
   "cell_type": "code",
   "execution_count": null,
   "metadata": {
    "collapsed": true
   },
   "outputs": [],
   "source": []
  }
 ],
 "metadata": {
  "kernelspec": {
   "display_name": "Python 2",
   "language": "python",
   "name": "python2"
  },
  "language_info": {
   "codemirror_mode": {
    "name": "ipython",
    "version": 2
   },
   "file_extension": ".py",
   "mimetype": "text/x-python",
   "name": "python",
   "nbconvert_exporter": "python",
   "pygments_lexer": "ipython2",
   "version": "2.7.9"
  }
 },
 "nbformat": 4,
 "nbformat_minor": 2
}
